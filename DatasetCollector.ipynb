{
 "cells": [
  {
   "cell_type": "code",
   "execution_count": 11,
   "id": "5c31bda8",
   "metadata": {},
   "outputs": [],
   "source": [
    "# Dataset Collection\n",
    "import cv2\n",
    "import numpy as np\n",
    "\n",
    "k=0\n",
    "cap=cv2.VideoCapture(0)\n",
    "\n",
    "#Put these numbers for adding to the training dataset: 0 for rock,1 for paper,2 for scissors\n",
    "\n",
    "while True:\n",
    "    _,frame=cap.read()\n",
    "    cv2.rectangle(frame,(0,0),(224,224),(0,225,0),4)\n",
    "    roi=frame[0:224,0:224]\n",
    "    \n",
    "    \n",
    "    \n",
    "    cv2.imshow(\"roi\",roi)\n",
    "    cv2.imshow(\"Video\",frame)\n",
    "    \n",
    "    if cv2.waitKey(25) & 0xff==ord(\"c\"):\n",
    "        cv2.imwrite(\"validating_data\\\\2\\\\{}.jpg\".format(k),roi)\n",
    "        k+=1\n",
    "    if cv2.waitKey(25) & 0xff==ord(\"x\"):\n",
    "        break\n",
    "    \n",
    "cap.release()\n",
    "cv2.destroyAllWindows()"
   ]
  },
  {
   "cell_type": "code",
   "execution_count": 14,
   "id": "44be7a94",
   "metadata": {},
   "outputs": [],
   "source": [
    "# Creating model for hand or not\n",
    "\n",
    "import cv2\n",
    "import numpy as np\n",
    "\n",
    "import tensorflow as tf\n",
    "import tensorflow.keras as keras\n",
    "\n",
    "from tensorflow.keras.preprocessing.image import ImageDataGenerator\n",
    "\n",
    "from tensorflow.keras.models import Sequential\n",
    "from tensorflow.keras.layers import Dense\n",
    "from tensorflow.keras.layers import Dropout\n",
    "from tensorflow.keras.layers import Flatten\n",
    "from tensorflow.keras.layers import Conv2D\n",
    "from tensorflow.keras.layers import MaxPool2D\n",
    "from tensorflow.keras.layers import Activation\n",
    "\n",
    "\n",
    "\n",
    "from tensorflow.keras.constraints import max_norm\n",
    "from tensorflow.keras.optimizers import SGD\n",
    "\n",
    "batch_size=64\n",
    "\n",
    "train_datagen=ImageDataGenerator(rescale=1/225)\n",
    "val_datagen=ImageDataGenerator(rescale=1/225)\n"
   ]
  },
  {
   "cell_type": "code",
   "execution_count": 15,
   "id": "30bcbbb5",
   "metadata": {},
   "outputs": [
    {
     "name": "stdout",
     "output_type": "stream",
     "text": [
      "Found 150 images belonging to 3 classes.\n",
      "Found 60 images belonging to 3 classes.\n"
     ]
    }
   ],
   "source": [
    "train_generator=train_datagen.flow_from_directory(\"training_data\",target_size=(224,224),batch_size=batch_size,class_mode=\"categorical\")\n",
    "val_generator=val_datagen.flow_from_directory(\"validating_data\",target_size=(224,224),batch_size=batch_size,class_mode=\"categorical\")"
   ]
  },
  {
   "cell_type": "code",
   "execution_count": 30,
   "id": "f4ce418e",
   "metadata": {},
   "outputs": [],
   "source": [
    "model=Sequential()\n",
    "\n",
    "model.add(Conv2D(32,(3,3),input_shape=(224,224,3),padding=\"same\",activation=\"relu\"))\n",
    "model.add(MaxPool2D(pool_size=(2,2)))\n",
    "\n",
    "model.add(Conv2D(64,(3,3),input_shape=(224,224,3),padding=\"same\",activation=\"relu\"))\n",
    "model.add(MaxPool2D(pool_size=(2,2)))\n",
    "\n",
    "model.add(Dropout(0.25))\n",
    "model.add(Flatten())\n",
    "\n",
    "model.add(Dense(64,activation=\"relu\"))\n",
    "\n",
    "model.add(Dense(3,activation=\"sigmoid\"))"
   ]
  },
  {
   "cell_type": "code",
   "execution_count": 31,
   "id": "0ce53eef",
   "metadata": {},
   "outputs": [],
   "source": [
    "sgd=SGD(learning_rate=0.01,momentum=0.9)\n",
    "model.compile(loss=\"binary_crossentropy\",optimizer=sgd,metrics=['accuracy'])"
   ]
  },
  {
   "cell_type": "code",
   "execution_count": 32,
   "id": "01cfe3bd",
   "metadata": {},
   "outputs": [
    {
     "name": "stdout",
     "output_type": "stream",
     "text": [
      "Model: \"sequential_4\"\n",
      "_________________________________________________________________\n",
      " Layer (type)                Output Shape              Param #   \n",
      "=================================================================\n",
      " conv2d_8 (Conv2D)           (None, 224, 224, 32)      896       \n",
      "                                                                 \n",
      " max_pooling2d_8 (MaxPooling  (None, 112, 112, 32)     0         \n",
      " 2D)                                                             \n",
      "                                                                 \n",
      " conv2d_9 (Conv2D)           (None, 112, 112, 64)      18496     \n",
      "                                                                 \n",
      " max_pooling2d_9 (MaxPooling  (None, 56, 56, 64)       0         \n",
      " 2D)                                                             \n",
      "                                                                 \n",
      " dropout_4 (Dropout)         (None, 56, 56, 64)        0         \n",
      "                                                                 \n",
      " flatten_4 (Flatten)         (None, 200704)            0         \n",
      "                                                                 \n",
      " dense_6 (Dense)             (None, 64)                12845120  \n",
      "                                                                 \n",
      " dense_7 (Dense)             (None, 3)                 195       \n",
      "                                                                 \n",
      "=================================================================\n",
      "Total params: 12,864,707\n",
      "Trainable params: 12,864,707\n",
      "Non-trainable params: 0\n",
      "_________________________________________________________________\n"
     ]
    }
   ],
   "source": [
    "model.summary()"
   ]
  },
  {
   "cell_type": "code",
   "execution_count": 34,
   "id": "76260913",
   "metadata": {},
   "outputs": [
    {
     "name": "stderr",
     "output_type": "stream",
     "text": [
      "C:\\Users\\Dell\\AppData\\Local\\Temp\\ipykernel_11612\\617599834.py:1: UserWarning: `Model.fit_generator` is deprecated and will be removed in a future version. Please use `Model.fit`, which supports generators.\n",
      "  model.fit_generator(train_generator,train_generator.n//batch_size,epochs=1,validation_data=val_generator,validation_steps=val_generator.n//batch_size,verbose=1)\n"
     ]
    },
    {
     "name": "stdout",
     "output_type": "stream",
     "text": [
      "2/2 [==============================] - 3s 3s/step - loss: 0.6256 - accuracy: 0.4767\n"
     ]
    },
    {
     "data": {
      "text/plain": [
       "<keras.callbacks.History at 0x2798a084130>"
      ]
     },
     "execution_count": 34,
     "metadata": {},
     "output_type": "execute_result"
    }
   ],
   "source": [
    "model.fit_generator(train_generator,train_generator.n//batch_size,epochs=1,validation_data=val_generator,validation_steps=val_generator.n//batch_size,verbose=1)"
   ]
  },
  {
   "cell_type": "code",
   "execution_count": 35,
   "id": "8d15a67f",
   "metadata": {},
   "outputs": [],
   "source": [
    "from tensorflow.keras.models import save_model"
   ]
  },
  {
   "cell_type": "code",
   "execution_count": 36,
   "id": "eaed2b29",
   "metadata": {},
   "outputs": [],
   "source": [
    "save_model(model,\"thisbetterwork.h5\")"
   ]
  },
  {
   "cell_type": "code",
   "execution_count": null,
   "id": "44a6b680",
   "metadata": {},
   "outputs": [],
   "source": []
  }
 ],
 "metadata": {
  "kernelspec": {
   "display_name": "Python 3 (ipykernel)",
   "language": "python",
   "name": "python3"
  },
  "language_info": {
   "codemirror_mode": {
    "name": "ipython",
    "version": 3
   },
   "file_extension": ".py",
   "mimetype": "text/x-python",
   "name": "python",
   "nbconvert_exporter": "python",
   "pygments_lexer": "ipython3",
   "version": "3.10.7"
  }
 },
 "nbformat": 4,
 "nbformat_minor": 5
}
